{
 "cells": [
  {
   "cell_type": "code",
   "execution_count": 2,
   "metadata": {},
   "outputs": [],
   "source": [
    "import pandas as pd\n",
    "import numpy as np\n",
    "import matplotlib.pyplot as plt\n",
    "import seaborn as sns\n",
    "%matplotlib inline\n",
    "\n",
    "import warnings\n",
    "warnings.filterwarnings('ignore')"
   ]
  },
  {
   "cell_type": "code",
   "execution_count": 4,
   "metadata": {},
   "outputs": [
    {
     "data": {
      "text/html": [
       "<div>\n",
       "<style scoped>\n",
       "    .dataframe tbody tr th:only-of-type {\n",
       "        vertical-align: middle;\n",
       "    }\n",
       "\n",
       "    .dataframe tbody tr th {\n",
       "        vertical-align: top;\n",
       "    }\n",
       "\n",
       "    .dataframe thead th {\n",
       "        text-align: right;\n",
       "    }\n",
       "</style>\n",
       "<table border=\"1\" class=\"dataframe\">\n",
       "  <thead>\n",
       "    <tr style=\"text-align: right;\">\n",
       "      <th></th>\n",
       "      <th>Unnamed: 0</th>\n",
       "      <th>Date</th>\n",
       "      <th>AveragePrice</th>\n",
       "      <th>Total Volume</th>\n",
       "      <th>4046</th>\n",
       "      <th>4225</th>\n",
       "      <th>4770</th>\n",
       "      <th>Total Bags</th>\n",
       "      <th>Small Bags</th>\n",
       "      <th>Large Bags</th>\n",
       "      <th>XLarge Bags</th>\n",
       "      <th>type</th>\n",
       "      <th>year</th>\n",
       "      <th>region</th>\n",
       "    </tr>\n",
       "  </thead>\n",
       "  <tbody>\n",
       "    <tr>\n",
       "      <th>0</th>\n",
       "      <td>0</td>\n",
       "      <td>27-12-2015</td>\n",
       "      <td>1.33</td>\n",
       "      <td>64236.62</td>\n",
       "      <td>1036.74</td>\n",
       "      <td>54454.85</td>\n",
       "      <td>48.16</td>\n",
       "      <td>8696.87</td>\n",
       "      <td>8603.62</td>\n",
       "      <td>93.25</td>\n",
       "      <td>0.0</td>\n",
       "      <td>conventional</td>\n",
       "      <td>2015</td>\n",
       "      <td>Albany</td>\n",
       "    </tr>\n",
       "    <tr>\n",
       "      <th>1</th>\n",
       "      <td>1</td>\n",
       "      <td>20-12-2015</td>\n",
       "      <td>1.35</td>\n",
       "      <td>54876.98</td>\n",
       "      <td>674.28</td>\n",
       "      <td>44638.81</td>\n",
       "      <td>58.33</td>\n",
       "      <td>9505.56</td>\n",
       "      <td>9408.07</td>\n",
       "      <td>97.49</td>\n",
       "      <td>0.0</td>\n",
       "      <td>conventional</td>\n",
       "      <td>2015</td>\n",
       "      <td>Albany</td>\n",
       "    </tr>\n",
       "    <tr>\n",
       "      <th>2</th>\n",
       "      <td>2</td>\n",
       "      <td>13-12-2015</td>\n",
       "      <td>0.93</td>\n",
       "      <td>118220.22</td>\n",
       "      <td>794.70</td>\n",
       "      <td>109149.67</td>\n",
       "      <td>130.50</td>\n",
       "      <td>8145.35</td>\n",
       "      <td>8042.21</td>\n",
       "      <td>103.14</td>\n",
       "      <td>0.0</td>\n",
       "      <td>conventional</td>\n",
       "      <td>2015</td>\n",
       "      <td>Albany</td>\n",
       "    </tr>\n",
       "    <tr>\n",
       "      <th>3</th>\n",
       "      <td>3</td>\n",
       "      <td>06-12-2015</td>\n",
       "      <td>1.08</td>\n",
       "      <td>78992.15</td>\n",
       "      <td>1132.00</td>\n",
       "      <td>71976.41</td>\n",
       "      <td>72.58</td>\n",
       "      <td>5811.16</td>\n",
       "      <td>5677.40</td>\n",
       "      <td>133.76</td>\n",
       "      <td>0.0</td>\n",
       "      <td>conventional</td>\n",
       "      <td>2015</td>\n",
       "      <td>Albany</td>\n",
       "    </tr>\n",
       "    <tr>\n",
       "      <th>4</th>\n",
       "      <td>4</td>\n",
       "      <td>29-11-2015</td>\n",
       "      <td>1.28</td>\n",
       "      <td>51039.60</td>\n",
       "      <td>941.48</td>\n",
       "      <td>43838.39</td>\n",
       "      <td>75.78</td>\n",
       "      <td>6183.95</td>\n",
       "      <td>5986.26</td>\n",
       "      <td>197.69</td>\n",
       "      <td>0.0</td>\n",
       "      <td>conventional</td>\n",
       "      <td>2015</td>\n",
       "      <td>Albany</td>\n",
       "    </tr>\n",
       "  </tbody>\n",
       "</table>\n",
       "</div>"
      ],
      "text/plain": [
       "   Unnamed: 0        Date  AveragePrice  Total Volume     4046       4225  \\\n",
       "0           0  27-12-2015          1.33      64236.62  1036.74   54454.85   \n",
       "1           1  20-12-2015          1.35      54876.98   674.28   44638.81   \n",
       "2           2  13-12-2015          0.93     118220.22   794.70  109149.67   \n",
       "3           3  06-12-2015          1.08      78992.15  1132.00   71976.41   \n",
       "4           4  29-11-2015          1.28      51039.60   941.48   43838.39   \n",
       "\n",
       "     4770  Total Bags  Small Bags  Large Bags  XLarge Bags          type  \\\n",
       "0   48.16     8696.87     8603.62       93.25          0.0  conventional   \n",
       "1   58.33     9505.56     9408.07       97.49          0.0  conventional   \n",
       "2  130.50     8145.35     8042.21      103.14          0.0  conventional   \n",
       "3   72.58     5811.16     5677.40      133.76          0.0  conventional   \n",
       "4   75.78     6183.95     5986.26      197.69          0.0  conventional   \n",
       "\n",
       "   year  region  \n",
       "0  2015  Albany  \n",
       "1  2015  Albany  \n",
       "2  2015  Albany  \n",
       "3  2015  Albany  \n",
       "4  2015  Albany  "
      ]
     },
     "execution_count": 4,
     "metadata": {},
     "output_type": "execute_result"
    }
   ],
   "source": [
    "df=pd.read_csv('Avacado.csv')\n",
    "df.head()"
   ]
  },
  {
   "cell_type": "code",
   "execution_count": 5,
   "metadata": {},
   "outputs": [
    {
     "data": {
      "text/plain": [
       "(1517, 14)"
      ]
     },
     "execution_count": 5,
     "metadata": {},
     "output_type": "execute_result"
    }
   ],
   "source": [
    "df.shape"
   ]
  },
  {
   "cell_type": "code",
   "execution_count": 6,
   "metadata": {},
   "outputs": [
    {
     "data": {
      "text/plain": [
       "Index(['Unnamed: 0', 'Date', 'AveragePrice', 'Total Volume', '4046', '4225',\n",
       "       '4770', 'Total Bags', 'Small Bags', 'Large Bags', 'XLarge Bags', 'type',\n",
       "       'year', 'region'],\n",
       "      dtype='object')"
      ]
     },
     "execution_count": 6,
     "metadata": {},
     "output_type": "execute_result"
    }
   ],
   "source": [
    "df.columns"
   ]
  },
  {
   "cell_type": "code",
   "execution_count": 7,
   "metadata": {},
   "outputs": [
    {
     "data": {
      "text/plain": [
       "Index(['Unnamed: 0', 'Large Bags'], dtype='object')"
      ]
     },
     "execution_count": 7,
     "metadata": {},
     "output_type": "execute_result"
    }
   ],
   "source": [
    "df.columns[[0,9]]"
   ]
  },
  {
   "cell_type": "code",
   "execution_count": 8,
   "metadata": {},
   "outputs": [],
   "source": [
    "df.drop(df.columns[[0,9]],axis=1,inplace=True)"
   ]
  },
  {
   "cell_type": "code",
   "execution_count": 9,
   "metadata": {},
   "outputs": [
    {
     "data": {
      "text/html": [
       "<div>\n",
       "<style scoped>\n",
       "    .dataframe tbody tr th:only-of-type {\n",
       "        vertical-align: middle;\n",
       "    }\n",
       "\n",
       "    .dataframe tbody tr th {\n",
       "        vertical-align: top;\n",
       "    }\n",
       "\n",
       "    .dataframe thead th {\n",
       "        text-align: right;\n",
       "    }\n",
       "</style>\n",
       "<table border=\"1\" class=\"dataframe\">\n",
       "  <thead>\n",
       "    <tr style=\"text-align: right;\">\n",
       "      <th></th>\n",
       "      <th>Date</th>\n",
       "      <th>AveragePrice</th>\n",
       "      <th>Total Volume</th>\n",
       "      <th>4046</th>\n",
       "      <th>4225</th>\n",
       "      <th>4770</th>\n",
       "      <th>Total Bags</th>\n",
       "      <th>Small Bags</th>\n",
       "      <th>XLarge Bags</th>\n",
       "      <th>type</th>\n",
       "      <th>year</th>\n",
       "      <th>region</th>\n",
       "    </tr>\n",
       "  </thead>\n",
       "  <tbody>\n",
       "    <tr>\n",
       "      <th>0</th>\n",
       "      <td>27-12-2015</td>\n",
       "      <td>1.33</td>\n",
       "      <td>64236.62</td>\n",
       "      <td>1036.74</td>\n",
       "      <td>54454.85</td>\n",
       "      <td>48.16</td>\n",
       "      <td>8696.87</td>\n",
       "      <td>8603.62</td>\n",
       "      <td>0.00</td>\n",
       "      <td>conventional</td>\n",
       "      <td>2015</td>\n",
       "      <td>Albany</td>\n",
       "    </tr>\n",
       "    <tr>\n",
       "      <th>1</th>\n",
       "      <td>20-12-2015</td>\n",
       "      <td>1.35</td>\n",
       "      <td>54876.98</td>\n",
       "      <td>674.28</td>\n",
       "      <td>44638.81</td>\n",
       "      <td>58.33</td>\n",
       "      <td>9505.56</td>\n",
       "      <td>9408.07</td>\n",
       "      <td>0.00</td>\n",
       "      <td>conventional</td>\n",
       "      <td>2015</td>\n",
       "      <td>Albany</td>\n",
       "    </tr>\n",
       "    <tr>\n",
       "      <th>2</th>\n",
       "      <td>13-12-2015</td>\n",
       "      <td>0.93</td>\n",
       "      <td>118220.22</td>\n",
       "      <td>794.70</td>\n",
       "      <td>109149.67</td>\n",
       "      <td>130.50</td>\n",
       "      <td>8145.35</td>\n",
       "      <td>8042.21</td>\n",
       "      <td>0.00</td>\n",
       "      <td>conventional</td>\n",
       "      <td>2015</td>\n",
       "      <td>Albany</td>\n",
       "    </tr>\n",
       "    <tr>\n",
       "      <th>3</th>\n",
       "      <td>06-12-2015</td>\n",
       "      <td>1.08</td>\n",
       "      <td>78992.15</td>\n",
       "      <td>1132.00</td>\n",
       "      <td>71976.41</td>\n",
       "      <td>72.58</td>\n",
       "      <td>5811.16</td>\n",
       "      <td>5677.40</td>\n",
       "      <td>0.00</td>\n",
       "      <td>conventional</td>\n",
       "      <td>2015</td>\n",
       "      <td>Albany</td>\n",
       "    </tr>\n",
       "    <tr>\n",
       "      <th>4</th>\n",
       "      <td>29-11-2015</td>\n",
       "      <td>1.28</td>\n",
       "      <td>51039.60</td>\n",
       "      <td>941.48</td>\n",
       "      <td>43838.39</td>\n",
       "      <td>75.78</td>\n",
       "      <td>6183.95</td>\n",
       "      <td>5986.26</td>\n",
       "      <td>0.00</td>\n",
       "      <td>conventional</td>\n",
       "      <td>2015</td>\n",
       "      <td>Albany</td>\n",
       "    </tr>\n",
       "    <tr>\n",
       "      <th>...</th>\n",
       "      <td>...</td>\n",
       "      <td>...</td>\n",
       "      <td>...</td>\n",
       "      <td>...</td>\n",
       "      <td>...</td>\n",
       "      <td>...</td>\n",
       "      <td>...</td>\n",
       "      <td>...</td>\n",
       "      <td>...</td>\n",
       "      <td>...</td>\n",
       "      <td>...</td>\n",
       "      <td>...</td>\n",
       "    </tr>\n",
       "    <tr>\n",
       "      <th>1512</th>\n",
       "      <td>16-10-2016</td>\n",
       "      <td>1.39</td>\n",
       "      <td>190846.01</td>\n",
       "      <td>57529.11</td>\n",
       "      <td>56366.66</td>\n",
       "      <td>17531.78</td>\n",
       "      <td>59418.46</td>\n",
       "      <td>48823.53</td>\n",
       "      <td>240.28</td>\n",
       "      <td>conventional</td>\n",
       "      <td>2016</td>\n",
       "      <td>Charlotte</td>\n",
       "    </tr>\n",
       "    <tr>\n",
       "      <th>1513</th>\n",
       "      <td>09-10-2016</td>\n",
       "      <td>1.51</td>\n",
       "      <td>178235.75</td>\n",
       "      <td>43325.87</td>\n",
       "      <td>52189.61</td>\n",
       "      <td>19419.57</td>\n",
       "      <td>63300.70</td>\n",
       "      <td>54704.14</td>\n",
       "      <td>0.00</td>\n",
       "      <td>conventional</td>\n",
       "      <td>2016</td>\n",
       "      <td>Charlotte</td>\n",
       "    </tr>\n",
       "    <tr>\n",
       "      <th>1514</th>\n",
       "      <td>02-10-2016</td>\n",
       "      <td>1.48</td>\n",
       "      <td>178410.82</td>\n",
       "      <td>46364.75</td>\n",
       "      <td>52893.38</td>\n",
       "      <td>16736.92</td>\n",
       "      <td>62415.77</td>\n",
       "      <td>53332.61</td>\n",
       "      <td>825.00</td>\n",
       "      <td>conventional</td>\n",
       "      <td>2016</td>\n",
       "      <td>Charlotte</td>\n",
       "    </tr>\n",
       "    <tr>\n",
       "      <th>1515</th>\n",
       "      <td>25-09-2016</td>\n",
       "      <td>1.47</td>\n",
       "      <td>189131.52</td>\n",
       "      <td>54110.79</td>\n",
       "      <td>53593.58</td>\n",
       "      <td>17495.42</td>\n",
       "      <td>63931.73</td>\n",
       "      <td>55653.47</td>\n",
       "      <td>0.00</td>\n",
       "      <td>conventional</td>\n",
       "      <td>2016</td>\n",
       "      <td>Charlotte</td>\n",
       "    </tr>\n",
       "    <tr>\n",
       "      <th>1516</th>\n",
       "      <td>18-09-2016</td>\n",
       "      <td>1.43</td>\n",
       "      <td>182978.30</td>\n",
       "      <td>43116.41</td>\n",
       "      <td>54193.42</td>\n",
       "      <td>16563.91</td>\n",
       "      <td>69104.56</td>\n",
       "      <td>57456.21</td>\n",
       "      <td>0.00</td>\n",
       "      <td>conventional</td>\n",
       "      <td>2016</td>\n",
       "      <td>Charlotte</td>\n",
       "    </tr>\n",
       "  </tbody>\n",
       "</table>\n",
       "<p>1517 rows × 12 columns</p>\n",
       "</div>"
      ],
      "text/plain": [
       "            Date  AveragePrice  Total Volume      4046       4225      4770  \\\n",
       "0     27-12-2015          1.33      64236.62   1036.74   54454.85     48.16   \n",
       "1     20-12-2015          1.35      54876.98    674.28   44638.81     58.33   \n",
       "2     13-12-2015          0.93     118220.22    794.70  109149.67    130.50   \n",
       "3     06-12-2015          1.08      78992.15   1132.00   71976.41     72.58   \n",
       "4     29-11-2015          1.28      51039.60    941.48   43838.39     75.78   \n",
       "...          ...           ...           ...       ...        ...       ...   \n",
       "1512  16-10-2016          1.39     190846.01  57529.11   56366.66  17531.78   \n",
       "1513  09-10-2016          1.51     178235.75  43325.87   52189.61  19419.57   \n",
       "1514  02-10-2016          1.48     178410.82  46364.75   52893.38  16736.92   \n",
       "1515  25-09-2016          1.47     189131.52  54110.79   53593.58  17495.42   \n",
       "1516  18-09-2016          1.43     182978.30  43116.41   54193.42  16563.91   \n",
       "\n",
       "      Total Bags  Small Bags  XLarge Bags          type  year     region  \n",
       "0        8696.87     8603.62         0.00  conventional  2015     Albany  \n",
       "1        9505.56     9408.07         0.00  conventional  2015     Albany  \n",
       "2        8145.35     8042.21         0.00  conventional  2015     Albany  \n",
       "3        5811.16     5677.40         0.00  conventional  2015     Albany  \n",
       "4        6183.95     5986.26         0.00  conventional  2015     Albany  \n",
       "...          ...         ...          ...           ...   ...        ...  \n",
       "1512    59418.46    48823.53       240.28  conventional  2016  Charlotte  \n",
       "1513    63300.70    54704.14         0.00  conventional  2016  Charlotte  \n",
       "1514    62415.77    53332.61       825.00  conventional  2016  Charlotte  \n",
       "1515    63931.73    55653.47         0.00  conventional  2016  Charlotte  \n",
       "1516    69104.56    57456.21         0.00  conventional  2016  Charlotte  \n",
       "\n",
       "[1517 rows x 12 columns]"
      ]
     },
     "execution_count": 9,
     "metadata": {},
     "output_type": "execute_result"
    }
   ],
   "source": [
    "df"
   ]
  },
  {
   "cell_type": "code",
   "execution_count": 10,
   "metadata": {},
   "outputs": [],
   "source": [
    "from sklearn.preprocessing import LabelEncoder\n",
    "for column in df.columns:\n",
    "    if df[column].dtype==np.number:\n",
    "        continue\n",
    "    df[column]=LabelEncoder().fit_transform(df[column])    "
   ]
  },
  {
   "cell_type": "code",
   "execution_count": 17,
   "metadata": {},
   "outputs": [
    {
     "data": {
      "text/html": [
       "<div>\n",
       "<style scoped>\n",
       "    .dataframe tbody tr th:only-of-type {\n",
       "        vertical-align: middle;\n",
       "    }\n",
       "\n",
       "    .dataframe tbody tr th {\n",
       "        vertical-align: top;\n",
       "    }\n",
       "\n",
       "    .dataframe thead th {\n",
       "        text-align: right;\n",
       "    }\n",
       "</style>\n",
       "<table border=\"1\" class=\"dataframe\">\n",
       "  <thead>\n",
       "    <tr style=\"text-align: right;\">\n",
       "      <th></th>\n",
       "      <th>Date</th>\n",
       "      <th>AveragePrice</th>\n",
       "      <th>Total Volume</th>\n",
       "      <th>4046</th>\n",
       "      <th>4225</th>\n",
       "      <th>4770</th>\n",
       "      <th>Total Bags</th>\n",
       "      <th>Small Bags</th>\n",
       "      <th>XLarge Bags</th>\n",
       "      <th>type</th>\n",
       "      <th>year</th>\n",
       "      <th>region</th>\n",
       "    </tr>\n",
       "  </thead>\n",
       "  <tbody>\n",
       "    <tr>\n",
       "      <th>0</th>\n",
       "      <td>92</td>\n",
       "      <td>1.33</td>\n",
       "      <td>64236.62</td>\n",
       "      <td>1036.74</td>\n",
       "      <td>54454.85</td>\n",
       "      <td>48.16</td>\n",
       "      <td>8696.87</td>\n",
       "      <td>8603.62</td>\n",
       "      <td>0.00</td>\n",
       "      <td>0</td>\n",
       "      <td>0</td>\n",
       "      <td>0</td>\n",
       "    </tr>\n",
       "    <tr>\n",
       "      <th>1</th>\n",
       "      <td>68</td>\n",
       "      <td>1.35</td>\n",
       "      <td>54876.98</td>\n",
       "      <td>674.28</td>\n",
       "      <td>44638.81</td>\n",
       "      <td>58.33</td>\n",
       "      <td>9505.56</td>\n",
       "      <td>9408.07</td>\n",
       "      <td>0.00</td>\n",
       "      <td>0</td>\n",
       "      <td>0</td>\n",
       "      <td>0</td>\n",
       "    </tr>\n",
       "    <tr>\n",
       "      <th>2</th>\n",
       "      <td>44</td>\n",
       "      <td>0.93</td>\n",
       "      <td>118220.22</td>\n",
       "      <td>794.70</td>\n",
       "      <td>109149.67</td>\n",
       "      <td>130.50</td>\n",
       "      <td>8145.35</td>\n",
       "      <td>8042.21</td>\n",
       "      <td>0.00</td>\n",
       "      <td>0</td>\n",
       "      <td>0</td>\n",
       "      <td>0</td>\n",
       "    </tr>\n",
       "    <tr>\n",
       "      <th>3</th>\n",
       "      <td>20</td>\n",
       "      <td>1.08</td>\n",
       "      <td>78992.15</td>\n",
       "      <td>1132.00</td>\n",
       "      <td>71976.41</td>\n",
       "      <td>72.58</td>\n",
       "      <td>5811.16</td>\n",
       "      <td>5677.40</td>\n",
       "      <td>0.00</td>\n",
       "      <td>0</td>\n",
       "      <td>0</td>\n",
       "      <td>0</td>\n",
       "    </tr>\n",
       "    <tr>\n",
       "      <th>4</th>\n",
       "      <td>98</td>\n",
       "      <td>1.28</td>\n",
       "      <td>51039.60</td>\n",
       "      <td>941.48</td>\n",
       "      <td>43838.39</td>\n",
       "      <td>75.78</td>\n",
       "      <td>6183.95</td>\n",
       "      <td>5986.26</td>\n",
       "      <td>0.00</td>\n",
       "      <td>0</td>\n",
       "      <td>0</td>\n",
       "      <td>0</td>\n",
       "    </tr>\n",
       "    <tr>\n",
       "      <th>...</th>\n",
       "      <td>...</td>\n",
       "      <td>...</td>\n",
       "      <td>...</td>\n",
       "      <td>...</td>\n",
       "      <td>...</td>\n",
       "      <td>...</td>\n",
       "      <td>...</td>\n",
       "      <td>...</td>\n",
       "      <td>...</td>\n",
       "      <td>...</td>\n",
       "      <td>...</td>\n",
       "      <td>...</td>\n",
       "    </tr>\n",
       "    <tr>\n",
       "      <th>1512</th>\n",
       "      <td>53</td>\n",
       "      <td>1.39</td>\n",
       "      <td>190846.01</td>\n",
       "      <td>57529.11</td>\n",
       "      <td>56366.66</td>\n",
       "      <td>17531.78</td>\n",
       "      <td>59418.46</td>\n",
       "      <td>48823.53</td>\n",
       "      <td>240.28</td>\n",
       "      <td>0</td>\n",
       "      <td>1</td>\n",
       "      <td>7</td>\n",
       "    </tr>\n",
       "    <tr>\n",
       "      <th>1513</th>\n",
       "      <td>29</td>\n",
       "      <td>1.51</td>\n",
       "      <td>178235.75</td>\n",
       "      <td>43325.87</td>\n",
       "      <td>52189.61</td>\n",
       "      <td>19419.57</td>\n",
       "      <td>63300.70</td>\n",
       "      <td>54704.14</td>\n",
       "      <td>0.00</td>\n",
       "      <td>0</td>\n",
       "      <td>1</td>\n",
       "      <td>7</td>\n",
       "    </tr>\n",
       "    <tr>\n",
       "      <th>1514</th>\n",
       "      <td>5</td>\n",
       "      <td>1.48</td>\n",
       "      <td>178410.82</td>\n",
       "      <td>46364.75</td>\n",
       "      <td>52893.38</td>\n",
       "      <td>16736.92</td>\n",
       "      <td>62415.77</td>\n",
       "      <td>53332.61</td>\n",
       "      <td>825.00</td>\n",
       "      <td>0</td>\n",
       "      <td>1</td>\n",
       "      <td>7</td>\n",
       "    </tr>\n",
       "    <tr>\n",
       "      <th>1515</th>\n",
       "      <td>83</td>\n",
       "      <td>1.47</td>\n",
       "      <td>189131.52</td>\n",
       "      <td>54110.79</td>\n",
       "      <td>53593.58</td>\n",
       "      <td>17495.42</td>\n",
       "      <td>63931.73</td>\n",
       "      <td>55653.47</td>\n",
       "      <td>0.00</td>\n",
       "      <td>0</td>\n",
       "      <td>1</td>\n",
       "      <td>7</td>\n",
       "    </tr>\n",
       "    <tr>\n",
       "      <th>1516</th>\n",
       "      <td>59</td>\n",
       "      <td>1.43</td>\n",
       "      <td>182978.30</td>\n",
       "      <td>43116.41</td>\n",
       "      <td>54193.42</td>\n",
       "      <td>16563.91</td>\n",
       "      <td>69104.56</td>\n",
       "      <td>57456.21</td>\n",
       "      <td>0.00</td>\n",
       "      <td>0</td>\n",
       "      <td>1</td>\n",
       "      <td>7</td>\n",
       "    </tr>\n",
       "  </tbody>\n",
       "</table>\n",
       "<p>1517 rows × 12 columns</p>\n",
       "</div>"
      ],
      "text/plain": [
       "      Date  AveragePrice  Total Volume      4046       4225      4770  \\\n",
       "0       92          1.33      64236.62   1036.74   54454.85     48.16   \n",
       "1       68          1.35      54876.98    674.28   44638.81     58.33   \n",
       "2       44          0.93     118220.22    794.70  109149.67    130.50   \n",
       "3       20          1.08      78992.15   1132.00   71976.41     72.58   \n",
       "4       98          1.28      51039.60    941.48   43838.39     75.78   \n",
       "...    ...           ...           ...       ...        ...       ...   \n",
       "1512    53          1.39     190846.01  57529.11   56366.66  17531.78   \n",
       "1513    29          1.51     178235.75  43325.87   52189.61  19419.57   \n",
       "1514     5          1.48     178410.82  46364.75   52893.38  16736.92   \n",
       "1515    83          1.47     189131.52  54110.79   53593.58  17495.42   \n",
       "1516    59          1.43     182978.30  43116.41   54193.42  16563.91   \n",
       "\n",
       "      Total Bags  Small Bags  XLarge Bags  type  year  region  \n",
       "0        8696.87     8603.62         0.00     0     0       0  \n",
       "1        9505.56     9408.07         0.00     0     0       0  \n",
       "2        8145.35     8042.21         0.00     0     0       0  \n",
       "3        5811.16     5677.40         0.00     0     0       0  \n",
       "4        6183.95     5986.26         0.00     0     0       0  \n",
       "...          ...         ...          ...   ...   ...     ...  \n",
       "1512    59418.46    48823.53       240.28     0     1       7  \n",
       "1513    63300.70    54704.14         0.00     0     1       7  \n",
       "1514    62415.77    53332.61       825.00     0     1       7  \n",
       "1515    63931.73    55653.47         0.00     0     1       7  \n",
       "1516    69104.56    57456.21         0.00     0     1       7  \n",
       "\n",
       "[1517 rows x 12 columns]"
      ]
     },
     "execution_count": 17,
     "metadata": {},
     "output_type": "execute_result"
    }
   ],
   "source": [
    "df"
   ]
  },
  {
   "cell_type": "code",
   "execution_count": 18,
   "metadata": {},
   "outputs": [
    {
     "data": {
      "text/plain": [
       "Date              int32\n",
       "AveragePrice    float64\n",
       "Total Volume    float64\n",
       "4046            float64\n",
       "4225            float64\n",
       "4770            float64\n",
       "Total Bags      float64\n",
       "Small Bags      float64\n",
       "XLarge Bags     float64\n",
       "type              int32\n",
       "year              int64\n",
       "region            int32\n",
       "dtype: object"
      ]
     },
     "execution_count": 18,
     "metadata": {},
     "output_type": "execute_result"
    }
   ],
   "source": [
    "df.dtypes"
   ]
  },
  {
   "cell_type": "code",
   "execution_count": 19,
   "metadata": {},
   "outputs": [
    {
     "data": {
      "text/plain": [
       "Date            0\n",
       "AveragePrice    0\n",
       "Total Volume    0\n",
       "4046            0\n",
       "4225            0\n",
       "4770            0\n",
       "Total Bags      0\n",
       "Small Bags      0\n",
       "XLarge Bags     0\n",
       "type            0\n",
       "year            0\n",
       "region          0\n",
       "dtype: int64"
      ]
     },
     "execution_count": 19,
     "metadata": {},
     "output_type": "execute_result"
    }
   ],
   "source": [
    "df.isnull().sum()"
   ]
  },
  {
   "cell_type": "code",
   "execution_count": 20,
   "metadata": {},
   "outputs": [
    {
     "data": {
      "text/plain": [
       "<matplotlib.axes._subplots.AxesSubplot at 0x285b0c1ce80>"
      ]
     },
     "execution_count": 20,
     "metadata": {},
     "output_type": "execute_result"
    },
    {
     "data": {
      "image/png": "[encoded data removed]",
      "text/plain": [
       "<Figure size 432x288 with 2 Axes>"
      ]
     },
     "metadata": {
      "needs_background": "light"
     },
     "output_type": "display_data"
    }
   ],
   "source": [
    "sns.heatmap(df.isnull())"
   ]
  },
  {
   "cell_type": "code",
   "execution_count": 21,
   "metadata": {},
   "outputs": [
    {
     "data": {
      "text/html": [
       "<div>\n",
       "<style scoped>\n",
       "    .dataframe tbody tr th:only-of-type {\n",
       "        vertical-align: middle;\n",
       "    }\n",
       "\n",
       "    .dataframe tbody tr th {\n",
       "        vertical-align: top;\n",
       "    }\n",
       "\n",
       "    .dataframe thead th {\n",
       "        text-align: right;\n",
       "    }\n",
       "</style>\n",
       "<table border=\"1\" class=\"dataframe\">\n",
       "  <thead>\n",
       "    <tr style=\"text-align: right;\">\n",
       "      <th></th>\n",
       "      <th>Date</th>\n",
       "      <th>AveragePrice</th>\n",
       "      <th>Total Volume</th>\n",
       "      <th>4046</th>\n",
       "      <th>4225</th>\n",
       "      <th>4770</th>\n",
       "      <th>Total Bags</th>\n",
       "      <th>Small Bags</th>\n",
       "      <th>XLarge Bags</th>\n",
       "      <th>type</th>\n",
       "      <th>year</th>\n",
       "      <th>region</th>\n",
       "    </tr>\n",
       "  </thead>\n",
       "  <tbody>\n",
       "    <tr>\n",
       "      <th>0</th>\n",
       "      <td>False</td>\n",
       "      <td>False</td>\n",
       "      <td>False</td>\n",
       "      <td>False</td>\n",
       "      <td>False</td>\n",
       "      <td>False</td>\n",
       "      <td>False</td>\n",
       "      <td>False</td>\n",
       "      <td>False</td>\n",
       "      <td>False</td>\n",
       "      <td>False</td>\n",
       "      <td>False</td>\n",
       "    </tr>\n",
       "    <tr>\n",
       "      <th>1</th>\n",
       "      <td>False</td>\n",
       "      <td>False</td>\n",
       "      <td>False</td>\n",
       "      <td>False</td>\n",
       "      <td>False</td>\n",
       "      <td>False</td>\n",
       "      <td>False</td>\n",
       "      <td>False</td>\n",
       "      <td>False</td>\n",
       "      <td>False</td>\n",
       "      <td>False</td>\n",
       "      <td>False</td>\n",
       "    </tr>\n",
       "    <tr>\n",
       "      <th>2</th>\n",
       "      <td>False</td>\n",
       "      <td>False</td>\n",
       "      <td>False</td>\n",
       "      <td>False</td>\n",
       "      <td>False</td>\n",
       "      <td>False</td>\n",
       "      <td>False</td>\n",
       "      <td>False</td>\n",
       "      <td>False</td>\n",
       "      <td>False</td>\n",
       "      <td>False</td>\n",
       "      <td>False</td>\n",
       "    </tr>\n",
       "    <tr>\n",
       "      <th>3</th>\n",
       "      <td>False</td>\n",
       "      <td>False</td>\n",
       "      <td>False</td>\n",
       "      <td>False</td>\n",
       "      <td>False</td>\n",
       "      <td>False</td>\n",
       "      <td>False</td>\n",
       "      <td>False</td>\n",
       "      <td>False</td>\n",
       "      <td>False</td>\n",
       "      <td>False</td>\n",
       "      <td>False</td>\n",
       "    </tr>\n",
       "    <tr>\n",
       "      <th>4</th>\n",
       "      <td>False</td>\n",
       "      <td>False</td>\n",
       "      <td>False</td>\n",
       "      <td>False</td>\n",
       "      <td>False</td>\n",
       "      <td>False</td>\n",
       "      <td>False</td>\n",
       "      <td>False</td>\n",
       "      <td>False</td>\n",
       "      <td>False</td>\n",
       "      <td>False</td>\n",
       "      <td>False</td>\n",
       "    </tr>\n",
       "    <tr>\n",
       "      <th>...</th>\n",
       "      <td>...</td>\n",
       "      <td>...</td>\n",
       "      <td>...</td>\n",
       "      <td>...</td>\n",
       "      <td>...</td>\n",
       "      <td>...</td>\n",
       "      <td>...</td>\n",
       "      <td>...</td>\n",
       "      <td>...</td>\n",
       "      <td>...</td>\n",
       "      <td>...</td>\n",
       "      <td>...</td>\n",
       "    </tr>\n",
       "    <tr>\n",
       "      <th>1512</th>\n",
       "      <td>False</td>\n",
       "      <td>False</td>\n",
       "      <td>False</td>\n",
       "      <td>False</td>\n",
       "      <td>False</td>\n",
       "      <td>False</td>\n",
       "      <td>False</td>\n",
       "      <td>False</td>\n",
       "      <td>False</td>\n",
       "      <td>False</td>\n",
       "      <td>False</td>\n",
       "      <td>False</td>\n",
       "    </tr>\n",
       "    <tr>\n",
       "      <th>1513</th>\n",
       "      <td>False</td>\n",
       "      <td>False</td>\n",
       "      <td>False</td>\n",
       "      <td>False</td>\n",
       "      <td>False</td>\n",
       "      <td>False</td>\n",
       "      <td>False</td>\n",
       "      <td>False</td>\n",
       "      <td>False</td>\n",
       "      <td>False</td>\n",
       "      <td>False</td>\n",
       "      <td>False</td>\n",
       "    </tr>\n",
       "    <tr>\n",
       "      <th>1514</th>\n",
       "      <td>False</td>\n",
       "      <td>False</td>\n",
       "      <td>False</td>\n",
       "      <td>False</td>\n",
       "      <td>False</td>\n",
       "      <td>False</td>\n",
       "      <td>False</td>\n",
       "      <td>False</td>\n",
       "      <td>False</td>\n",
       "      <td>False</td>\n",
       "      <td>False</td>\n",
       "      <td>False</td>\n",
       "    </tr>\n",
       "    <tr>\n",
       "      <th>1515</th>\n",
       "      <td>False</td>\n",
       "      <td>False</td>\n",
       "      <td>False</td>\n",
       "      <td>False</td>\n",
       "      <td>False</td>\n",
       "      <td>False</td>\n",
       "      <td>False</td>\n",
       "      <td>False</td>\n",
       "      <td>False</td>\n",
       "      <td>False</td>\n",
       "      <td>False</td>\n",
       "      <td>False</td>\n",
       "    </tr>\n",
       "    <tr>\n",
       "      <th>1516</th>\n",
       "      <td>False</td>\n",
       "      <td>False</td>\n",
       "      <td>False</td>\n",
       "      <td>False</td>\n",
       "      <td>False</td>\n",
       "      <td>False</td>\n",
       "      <td>False</td>\n",
       "      <td>False</td>\n",
       "      <td>False</td>\n",
       "      <td>False</td>\n",
       "      <td>False</td>\n",
       "      <td>False</td>\n",
       "    </tr>\n",
       "  </tbody>\n",
       "</table>\n",
       "<p>1517 rows × 12 columns</p>\n",
       "</div>"
      ],
      "text/plain": [
       "       Date  AveragePrice  Total Volume   4046   4225   4770  Total Bags  \\\n",
       "0     False         False         False  False  False  False       False   \n",
       "1     False         False         False  False  False  False       False   \n",
       "2     False         False         False  False  False  False       False   \n",
       "3     False         False         False  False  False  False       False   \n",
       "4     False         False         False  False  False  False       False   \n",
       "...     ...           ...           ...    ...    ...    ...         ...   \n",
       "1512  False         False         False  False  False  False       False   \n",
       "1513  False         False         False  False  False  False       False   \n",
       "1514  False         False         False  False  False  False       False   \n",
       "1515  False         False         False  False  False  False       False   \n",
       "1516  False         False         False  False  False  False       False   \n",
       "\n",
       "      Small Bags  XLarge Bags   type   year  region  \n",
       "0          False        False  False  False   False  \n",
       "1          False        False  False  False   False  \n",
       "2          False        False  False  False   False  \n",
       "3          False        False  False  False   False  \n",
       "4          False        False  False  False   False  \n",
       "...          ...          ...    ...    ...     ...  \n",
       "1512       False        False  False  False   False  \n",
       "1513       False        False  False  False   False  \n",
       "1514       False        False  False  False   False  \n",
       "1515       False        False  False  False   False  \n",
       "1516       False        False  False  False   False  \n",
       "\n",
       "[1517 rows x 12 columns]"
      ]
     },
     "execution_count": 21,
     "metadata": {},
     "output_type": "execute_result"
    }
   ],
   "source": [
    "df.isnull()"
   ]
  },
  {
   "cell_type": "code",
   "execution_count": 24,
   "metadata": {},
   "outputs": [
    {
     "name": "stdout",
     "output_type": "stream",
     "text": [
      "<class 'pandas.core.frame.DataFrame'>\n",
      "RangeIndex: 1517 entries, 0 to 1516\n",
      "Data columns (total 12 columns):\n",
      " #   Column        Non-Null Count  Dtype  \n",
      "---  ------        --------------  -----  \n",
      " 0   Date          1517 non-null   int32  \n",
      " 1   AveragePrice  1517 non-null   float64\n",
      " 2   Total Volume  1517 non-null   float64\n",
      " 3   4046          1517 non-null   float64\n",
      " 4   4225          1517 non-null   float64\n",
      " 5   4770          1517 non-null   float64\n",
      " 6   Total Bags    1517 non-null   float64\n",
      " 7   Small Bags    1517 non-null   float64\n",
      " 8   XLarge Bags   1517 non-null   float64\n",
      " 9   type          1517 non-null   int32  \n",
      " 10  year          1517 non-null   int64  \n",
      " 11  region        1517 non-null   int32  \n",
      "dtypes: float64(8), int32(3), int64(1)\n",
      "memory usage: 124.6 KB\n"
     ]
    }
   ],
   "source": [
    "df.info()"
   ]
  },
  {
   "cell_type": "code",
   "execution_count": 25,
   "metadata": {},
   "outputs": [
    {
     "data": {
      "text/plain": [
       "(1517, 12)"
      ]
     },
     "execution_count": 25,
     "metadata": {},
     "output_type": "execute_result"
    }
   ],
   "source": [
    "df.shape"
   ]
  },
  {
   "cell_type": "code",
   "execution_count": 26,
   "metadata": {},
   "outputs": [
    {
     "data": {
      "text/html": [
       "<div>\n",
       "<style scoped>\n",
       "    .dataframe tbody tr th:only-of-type {\n",
       "        vertical-align: middle;\n",
       "    }\n",
       "\n",
       "    .dataframe tbody tr th {\n",
       "        vertical-align: top;\n",
       "    }\n",
       "\n",
       "    .dataframe thead th {\n",
       "        text-align: right;\n",
       "    }\n",
       "</style>\n",
       "<table border=\"1\" class=\"dataframe\">\n",
       "  <thead>\n",
       "    <tr style=\"text-align: right;\">\n",
       "      <th></th>\n",
       "      <th>Date</th>\n",
       "      <th>AveragePrice</th>\n",
       "      <th>Total Volume</th>\n",
       "      <th>4046</th>\n",
       "      <th>4225</th>\n",
       "      <th>4770</th>\n",
       "      <th>Total Bags</th>\n",
       "      <th>Small Bags</th>\n",
       "      <th>XLarge Bags</th>\n",
       "      <th>type</th>\n",
       "      <th>year</th>\n",
       "      <th>region</th>\n",
       "    </tr>\n",
       "  </thead>\n",
       "  <tbody>\n",
       "    <tr>\n",
       "      <th>count</th>\n",
       "      <td>1517.000000</td>\n",
       "      <td>1517.000000</td>\n",
       "      <td>1.517000e+03</td>\n",
       "      <td>1.517000e+03</td>\n",
       "      <td>1.517000e+03</td>\n",
       "      <td>1.517000e+03</td>\n",
       "      <td>1.517000e+03</td>\n",
       "      <td>1.517000e+03</td>\n",
       "      <td>1517.000000</td>\n",
       "      <td>1517.0</td>\n",
       "      <td>1517.000000</td>\n",
       "      <td>1517.000000</td>\n",
       "    </tr>\n",
       "    <tr>\n",
       "      <th>mean</th>\n",
       "      <td>50.624918</td>\n",
       "      <td>1.074990</td>\n",
       "      <td>1.601879e+06</td>\n",
       "      <td>6.464387e+05</td>\n",
       "      <td>6.114375e+05</td>\n",
       "      <td>5.040550e+04</td>\n",
       "      <td>2.935974e+05</td>\n",
       "      <td>2.487736e+05</td>\n",
       "      <td>2181.771074</td>\n",
       "      <td>0.0</td>\n",
       "      <td>0.162821</td>\n",
       "      <td>21.196440</td>\n",
       "    </tr>\n",
       "    <tr>\n",
       "      <th>std</th>\n",
       "      <td>30.040469</td>\n",
       "      <td>0.188891</td>\n",
       "      <td>4.433143e+06</td>\n",
       "      <td>1.947614e+06</td>\n",
       "      <td>1.672906e+06</td>\n",
       "      <td>1.377812e+05</td>\n",
       "      <td>7.579765e+05</td>\n",
       "      <td>6.474765e+05</td>\n",
       "      <td>7455.712144</td>\n",
       "      <td>0.0</td>\n",
       "      <td>0.369324</td>\n",
       "      <td>16.132398</td>\n",
       "    </tr>\n",
       "    <tr>\n",
       "      <th>min</th>\n",
       "      <td>0.000000</td>\n",
       "      <td>0.490000</td>\n",
       "      <td>3.875074e+04</td>\n",
       "      <td>4.677200e+02</td>\n",
       "      <td>1.783770e+03</td>\n",
       "      <td>0.000000e+00</td>\n",
       "      <td>3.311770e+03</td>\n",
       "      <td>3.311770e+03</td>\n",
       "      <td>0.000000</td>\n",
       "      <td>0.0</td>\n",
       "      <td>0.000000</td>\n",
       "      <td>0.000000</td>\n",
       "    </tr>\n",
       "    <tr>\n",
       "      <th>25%</th>\n",
       "      <td>25.000000</td>\n",
       "      <td>0.980000</td>\n",
       "      <td>1.474700e+05</td>\n",
       "      <td>2.040034e+04</td>\n",
       "      <td>4.147606e+04</td>\n",
       "      <td>9.112500e+02</td>\n",
       "      <td>3.620689e+04</td>\n",
       "      <td>2.972722e+04</td>\n",
       "      <td>0.000000</td>\n",
       "      <td>0.0</td>\n",
       "      <td>0.000000</td>\n",
       "      <td>6.000000</td>\n",
       "    </tr>\n",
       "    <tr>\n",
       "      <th>50%</th>\n",
       "      <td>49.000000</td>\n",
       "      <td>1.080000</td>\n",
       "      <td>4.027919e+05</td>\n",
       "      <td>8.175117e+04</td>\n",
       "      <td>1.186649e+05</td>\n",
       "      <td>7.688170e+03</td>\n",
       "      <td>7.397906e+04</td>\n",
       "      <td>6.237569e+04</td>\n",
       "      <td>0.000000</td>\n",
       "      <td>0.0</td>\n",
       "      <td>0.000000</td>\n",
       "      <td>19.000000</td>\n",
       "    </tr>\n",
       "    <tr>\n",
       "      <th>75%</th>\n",
       "      <td>75.000000</td>\n",
       "      <td>1.190000</td>\n",
       "      <td>9.819751e+05</td>\n",
       "      <td>3.775785e+05</td>\n",
       "      <td>4.851503e+05</td>\n",
       "      <td>2.916730e+04</td>\n",
       "      <td>1.576097e+05</td>\n",
       "      <td>1.461994e+05</td>\n",
       "      <td>401.480000</td>\n",
       "      <td>0.0</td>\n",
       "      <td>0.000000</td>\n",
       "      <td>35.000000</td>\n",
       "    </tr>\n",
       "    <tr>\n",
       "      <th>max</th>\n",
       "      <td>103.000000</td>\n",
       "      <td>1.680000</td>\n",
       "      <td>4.465546e+07</td>\n",
       "      <td>1.893304e+07</td>\n",
       "      <td>1.895648e+07</td>\n",
       "      <td>1.381516e+06</td>\n",
       "      <td>6.736304e+06</td>\n",
       "      <td>5.893642e+06</td>\n",
       "      <td>108072.790000</td>\n",
       "      <td>0.0</td>\n",
       "      <td>1.000000</td>\n",
       "      <td>50.000000</td>\n",
       "    </tr>\n",
       "  </tbody>\n",
       "</table>\n",
       "</div>"
      ],
      "text/plain": [
       "              Date  AveragePrice  Total Volume          4046          4225  \\\n",
       "count  1517.000000   1517.000000  1.517000e+03  1.517000e+03  1.517000e+03   \n",
       "mean     50.624918      1.074990  1.601879e+06  6.464387e+05  6.114375e+05   \n",
       "std      30.040469      0.188891  4.433143e+06  1.947614e+06  1.672906e+06   \n",
       "min       0.000000      0.490000  3.875074e+04  4.677200e+02  1.783770e+03   \n",
       "25%      25.000000      0.980000  1.474700e+05  2.040034e+04  4.147606e+04   \n",
       "50%      49.000000      1.080000  4.027919e+05  8.175117e+04  1.186649e+05   \n",
       "75%      75.000000      1.190000  9.819751e+05  3.775785e+05  4.851503e+05   \n",
       "max     103.000000      1.680000  4.465546e+07  1.893304e+07  1.895648e+07   \n",
       "\n",
       "               4770    Total Bags    Small Bags    XLarge Bags    type  \\\n",
       "count  1.517000e+03  1.517000e+03  1.517000e+03    1517.000000  1517.0   \n",
       "mean   5.040550e+04  2.935974e+05  2.487736e+05    2181.771074     0.0   \n",
       "std    1.377812e+05  7.579765e+05  6.474765e+05    7455.712144     0.0   \n",
       "min    0.000000e+00  3.311770e+03  3.311770e+03       0.000000     0.0   \n",
       "25%    9.112500e+02  3.620689e+04  2.972722e+04       0.000000     0.0   \n",
       "50%    7.688170e+03  7.397906e+04  6.237569e+04       0.000000     0.0   \n",
       "75%    2.916730e+04  1.576097e+05  1.461994e+05     401.480000     0.0   \n",
       "max    1.381516e+06  6.736304e+06  5.893642e+06  108072.790000     0.0   \n",
       "\n",
       "              year       region  \n",
       "count  1517.000000  1517.000000  \n",
       "mean      0.162821    21.196440  \n",
       "std       0.369324    16.132398  \n",
       "min       0.000000     0.000000  \n",
       "25%       0.000000     6.000000  \n",
       "50%       0.000000    19.000000  \n",
       "75%       0.000000    35.000000  \n",
       "max       1.000000    50.000000  "
      ]
     },
     "execution_count": 26,
     "metadata": {},
     "output_type": "execute_result"
    }
   ],
   "source": [
    "df.describe()"
   ]
  },
  {
   "cell_type": "code",
   "execution_count": 28,
   "metadata": {},
   "outputs": [
    {
     "data": {
      "text/plain": [
       "<matplotlib.axes._subplots.AxesSubplot at 0x285b0db8130>"
      ]
     },
     "execution_count": 28,
     "metadata": {},
     "output_type": "execute_result"
    },
    {
     "data": {
      "image/png": "[encoded data removed]",
      "text/plain": [
       "<Figure size 432x288 with 1 Axes>"
      ]
     },
     "metadata": {
      "needs_background": "light"
     },
     "output_type": "display_data"
    }
   ],
   "source": [
    "sns.barplot(x='year',y='AveragePrice',data=df)"
   ]
  },
  {
   "cell_type": "code",
   "execution_count": 29,
   "metadata": {},
   "outputs": [
    {
     "data": {
      "text/plain": [
       "array([[<matplotlib.axes._subplots.AxesSubplot object at 0x00000285B0E5CC40>,\n",
       "        <matplotlib.axes._subplots.AxesSubplot object at 0x00000285B0E98400>,\n",
       "        <matplotlib.axes._subplots.AxesSubplot object at 0x00000285B0EC2880>,\n",
       "        <matplotlib.axes._subplots.AxesSubplot object at 0x00000285B0EF1CD0>],\n",
       "       [<matplotlib.axes._subplots.AxesSubplot object at 0x00000285B0F29190>,\n",
       "        <matplotlib.axes._subplots.AxesSubplot object at 0x00000285B0F54520>,\n",
       "        <matplotlib.axes._subplots.AxesSubplot object at 0x00000285B0F54610>,\n",
       "        <matplotlib.axes._subplots.AxesSubplot object at 0x00000285B0F81AC0>],\n",
       "       [<matplotlib.axes._subplots.AxesSubplot object at 0x00000285B0FE7340>,\n",
       "        <matplotlib.axes._subplots.AxesSubplot object at 0x00000285B1016790>,\n",
       "        <matplotlib.axes._subplots.AxesSubplot object at 0x00000285B1041BE0>,\n",
       "        <matplotlib.axes._subplots.AxesSubplot object at 0x00000285B106D0D0>],\n",
       "       [<matplotlib.axes._subplots.AxesSubplot object at 0x00000285B10A6400>,\n",
       "        <matplotlib.axes._subplots.AxesSubplot object at 0x00000285B10C3DF0>,\n",
       "        <matplotlib.axes._subplots.AxesSubplot object at 0x00000285B10F95B0>,\n",
       "        <matplotlib.axes._subplots.AxesSubplot object at 0x00000285B1123D30>]],\n",
       "      dtype=object)"
      ]
     },
     "execution_count": 29,
     "metadata": {},
     "output_type": "execute_result"
    },
    {
     "data": {
      "image/png": "[encoded data removed]",
      "text/plain": [
       "<Figure size 1440x1440 with 16 Axes>"
      ]
     },
     "metadata": {
      "needs_background": "light"
     },
     "output_type": "display_data"
    }
   ],
   "source": [
    "df.hist(figsize=(20,20),grid=True,layout=(4,4),bins=30)"
   ]
  },
  {
   "cell_type": "code",
   "execution_count": 30,
   "metadata": {},
   "outputs": [
    {
     "data": {
      "image/png": "[encoded data removed]",
      "text/plain": [
       "<Figure size 432x288 with 1 Axes>"
      ]
     },
     "metadata": {
      "needs_background": "light"
     },
     "output_type": "display_data"
    }
   ],
   "source": [
    "sns.heatmap(df.isnull(),yticklabels=False,cbar=False,cmap='tab20')\n",
    "plt.show()"
   ]
  },
  {
   "cell_type": "code",
   "execution_count": 31,
   "metadata": {},
   "outputs": [
    {
     "data": {
      "text/plain": [
       "Date            0.012623\n",
       "AveragePrice   -0.109444\n",
       "Total Volume    6.200138\n",
       "4046            6.051830\n",
       "4225            6.394926\n",
       "4770            5.405164\n",
       "Total Bags      5.366378\n",
       "Small Bags      5.355185\n",
       "XLarge Bags     5.775077\n",
       "type            0.000000\n",
       "year            1.828332\n",
       "region          0.288146\n",
       "dtype: float64"
      ]
     },
     "execution_count": 31,
     "metadata": {},
     "output_type": "execute_result"
    }
   ],
   "source": [
    "df.skew()"
   ]
  },
  {
   "cell_type": "code",
   "execution_count": 32,
   "metadata": {},
   "outputs": [
    {
     "data": {
      "text/plain": [
       "-0.10933554533340432"
      ]
     },
     "execution_count": 32,
     "metadata": {},
     "output_type": "execute_result"
    }
   ],
   "source": [
    "from scipy.stats import skew\n",
    "skew(df['AveragePrice'].dropna())"
   ]
  },
  {
   "cell_type": "code",
   "execution_count": 33,
   "metadata": {},
   "outputs": [
    {
     "name": "stdout",
     "output_type": "stream",
     "text": [
      "null hyp of normality is accepted\n"
     ]
    }
   ],
   "source": [
    "from scipy import stats\n",
    "p_value=stats.shapiro(df['AveragePrice'].dropna())[1]\n",
    "if p_value >= 0.05:\n",
    "    print('null hyp of normality is rejected')\n",
    "else:\n",
    "    print('null hyp of normality is accepted')\n"
   ]
  },
  {
   "cell_type": "code",
   "execution_count": 34,
   "metadata": {},
   "outputs": [
    {
     "data": {
      "text/html": [
       "<div>\n",
       "<style scoped>\n",
       "    .dataframe tbody tr th:only-of-type {\n",
       "        vertical-align: middle;\n",
       "    }\n",
       "\n",
       "    .dataframe tbody tr th {\n",
       "        vertical-align: top;\n",
       "    }\n",
       "\n",
       "    .dataframe thead th {\n",
       "        text-align: right;\n",
       "    }\n",
       "</style>\n",
       "<table border=\"1\" class=\"dataframe\">\n",
       "  <thead>\n",
       "    <tr style=\"text-align: right;\">\n",
       "      <th></th>\n",
       "      <th>Date</th>\n",
       "      <th>AveragePrice</th>\n",
       "      <th>Total Volume</th>\n",
       "      <th>4046</th>\n",
       "      <th>4225</th>\n",
       "      <th>4770</th>\n",
       "      <th>Total Bags</th>\n",
       "      <th>Small Bags</th>\n",
       "      <th>XLarge Bags</th>\n",
       "      <th>type</th>\n",
       "      <th>year</th>\n",
       "    </tr>\n",
       "  </thead>\n",
       "  <tbody>\n",
       "    <tr>\n",
       "      <th>0</th>\n",
       "      <td>92</td>\n",
       "      <td>1.33</td>\n",
       "      <td>64236.62</td>\n",
       "      <td>1036.74</td>\n",
       "      <td>54454.85</td>\n",
       "      <td>48.16</td>\n",
       "      <td>8696.87</td>\n",
       "      <td>8603.62</td>\n",
       "      <td>0.0</td>\n",
       "      <td>0</td>\n",
       "      <td>0</td>\n",
       "    </tr>\n",
       "    <tr>\n",
       "      <th>1</th>\n",
       "      <td>68</td>\n",
       "      <td>1.35</td>\n",
       "      <td>54876.98</td>\n",
       "      <td>674.28</td>\n",
       "      <td>44638.81</td>\n",
       "      <td>58.33</td>\n",
       "      <td>9505.56</td>\n",
       "      <td>9408.07</td>\n",
       "      <td>0.0</td>\n",
       "      <td>0</td>\n",
       "      <td>0</td>\n",
       "    </tr>\n",
       "    <tr>\n",
       "      <th>2</th>\n",
       "      <td>44</td>\n",
       "      <td>0.93</td>\n",
       "      <td>118220.22</td>\n",
       "      <td>794.70</td>\n",
       "      <td>109149.67</td>\n",
       "      <td>130.50</td>\n",
       "      <td>8145.35</td>\n",
       "      <td>8042.21</td>\n",
       "      <td>0.0</td>\n",
       "      <td>0</td>\n",
       "      <td>0</td>\n",
       "    </tr>\n",
       "    <tr>\n",
       "      <th>3</th>\n",
       "      <td>20</td>\n",
       "      <td>1.08</td>\n",
       "      <td>78992.15</td>\n",
       "      <td>1132.00</td>\n",
       "      <td>71976.41</td>\n",
       "      <td>72.58</td>\n",
       "      <td>5811.16</td>\n",
       "      <td>5677.40</td>\n",
       "      <td>0.0</td>\n",
       "      <td>0</td>\n",
       "      <td>0</td>\n",
       "    </tr>\n",
       "    <tr>\n",
       "      <th>4</th>\n",
       "      <td>98</td>\n",
       "      <td>1.28</td>\n",
       "      <td>51039.60</td>\n",
       "      <td>941.48</td>\n",
       "      <td>43838.39</td>\n",
       "      <td>75.78</td>\n",
       "      <td>6183.95</td>\n",
       "      <td>5986.26</td>\n",
       "      <td>0.0</td>\n",
       "      <td>0</td>\n",
       "      <td>0</td>\n",
       "    </tr>\n",
       "  </tbody>\n",
       "</table>\n",
       "</div>"
      ],
      "text/plain": [
       "   Date  AveragePrice  Total Volume     4046       4225    4770  Total Bags  \\\n",
       "0    92          1.33      64236.62  1036.74   54454.85   48.16     8696.87   \n",
       "1    68          1.35      54876.98   674.28   44638.81   58.33     9505.56   \n",
       "2    44          0.93     118220.22   794.70  109149.67  130.50     8145.35   \n",
       "3    20          1.08      78992.15  1132.00   71976.41   72.58     5811.16   \n",
       "4    98          1.28      51039.60   941.48   43838.39   75.78     6183.95   \n",
       "\n",
       "   Small Bags  XLarge Bags  type  year  \n",
       "0     8603.62          0.0     0     0  \n",
       "1     9408.07          0.0     0     0  \n",
       "2     8042.21          0.0     0     0  \n",
       "3     5677.40          0.0     0     0  \n",
       "4     5986.26          0.0     0     0  "
      ]
     },
     "execution_count": 34,
     "metadata": {},
     "output_type": "execute_result"
    }
   ],
   "source": [
    "x=df.iloc[:,0:-1]\n",
    "x.head()"
   ]
  },
  {
   "cell_type": "code",
   "execution_count": 35,
   "metadata": {},
   "outputs": [
    {
     "data": {
      "text/plain": [
       "0    0\n",
       "1    0\n",
       "2    0\n",
       "3    0\n",
       "4    0\n",
       "Name: region, dtype: int32"
      ]
     },
     "execution_count": 35,
     "metadata": {},
     "output_type": "execute_result"
    }
   ],
   "source": [
    "y=df.iloc[:,-1]\n",
    "y.head()"
   ]
  },
  {
   "cell_type": "code",
   "execution_count": 36,
   "metadata": {},
   "outputs": [
    {
     "data": {
      "text/plain": [
       "(1517, 11)"
      ]
     },
     "execution_count": 36,
     "metadata": {},
     "output_type": "execute_result"
    }
   ],
   "source": [
    "x.shape"
   ]
  },
  {
   "cell_type": "code",
   "execution_count": 37,
   "metadata": {},
   "outputs": [
    {
     "data": {
      "text/plain": [
       "(1517,)"
      ]
     },
     "execution_count": 37,
     "metadata": {},
     "output_type": "execute_result"
    }
   ],
   "source": [
    "y.shape"
   ]
  },
  {
   "cell_type": "code",
   "execution_count": 38,
   "metadata": {},
   "outputs": [],
   "source": [
    "from sklearn.model_selection import train_test_split\n",
    "\n",
    "x_train,x_test,y_train,y_test=train_test_split(x,y,test_size=.33,random_state=42)"
   ]
  },
  {
   "cell_type": "code",
   "execution_count": 39,
   "metadata": {},
   "outputs": [
    {
     "data": {
      "text/plain": [
       "(1016, 11)"
      ]
     },
     "execution_count": 39,
     "metadata": {},
     "output_type": "execute_result"
    }
   ],
   "source": [
    "x_train.shape"
   ]
  },
  {
   "cell_type": "code",
   "execution_count": 40,
   "metadata": {},
   "outputs": [
    {
     "data": {
      "text/plain": [
       "(1016,)"
      ]
     },
     "execution_count": 40,
     "metadata": {},
     "output_type": "execute_result"
    }
   ],
   "source": [
    "y_train.shape"
   ]
  },
  {
   "cell_type": "code",
   "execution_count": 41,
   "metadata": {},
   "outputs": [
    {
     "data": {
      "text/plain": [
       "(501, 11)"
      ]
     },
     "execution_count": 41,
     "metadata": {},
     "output_type": "execute_result"
    }
   ],
   "source": [
    "x_test.shape"
   ]
  },
  {
   "cell_type": "code",
   "execution_count": 42,
   "metadata": {},
   "outputs": [
    {
     "data": {
      "text/plain": [
       "(501,)"
      ]
     },
     "execution_count": 42,
     "metadata": {},
     "output_type": "execute_result"
    }
   ],
   "source": [
    "y_test.shape"
   ]
  },
  {
   "cell_type": "code",
   "execution_count": 43,
   "metadata": {},
   "outputs": [],
   "source": [
    "from sklearn.linear_model import LinearRegression\n",
    "lr=LinearRegression()"
   ]
  },
  {
   "cell_type": "code",
   "execution_count": 44,
   "metadata": {},
   "outputs": [
    {
     "data": {
      "text/plain": [
       "LinearRegression()"
      ]
     },
     "execution_count": 44,
     "metadata": {},
     "output_type": "execute_result"
    }
   ],
   "source": [
    "lr.fit(x_train,y_train)"
   ]
  },
  {
   "cell_type": "code",
   "execution_count": 45,
   "metadata": {},
   "outputs": [
    {
     "data": {
      "text/plain": [
       "array([ 7.92573193e-03, -5.01272555e+00,  2.33115962e-06,  7.68905662e-07,\n",
       "       -4.49555695e-06, -5.64197631e-05,  6.24835496e-05, -6.33361362e-05,\n",
       "        3.52503109e-05,  0.00000000e+00, -1.88846517e+01])"
      ]
     },
     "execution_count": 45,
     "metadata": {},
     "output_type": "execute_result"
    }
   ],
   "source": [
    "lr.coef_"
   ]
  },
  {
   "cell_type": "code",
   "execution_count": 46,
   "metadata": {},
   "outputs": [
    {
     "data": {
      "text/plain": [
       "27.76831632830107"
      ]
     },
     "execution_count": 46,
     "metadata": {},
     "output_type": "execute_result"
    }
   ],
   "source": [
    "lr.intercept_"
   ]
  },
  {
   "cell_type": "code",
   "execution_count": 47,
   "metadata": {},
   "outputs": [
    {
     "data": {
      "text/plain": [
       "0.3581791176272525"
      ]
     },
     "execution_count": 47,
     "metadata": {},
     "output_type": "execute_result"
    }
   ],
   "source": [
    "lr.score(x_train,y_train)"
   ]
  },
  {
   "cell_type": "code",
   "execution_count": 48,
   "metadata": {},
   "outputs": [
    {
     "data": {
      "text/plain": [
       "Index(['Date', 'AveragePrice', 'Total Volume', '4046', '4225', '4770',\n",
       "       'Total Bags', 'Small Bags', 'XLarge Bags', 'type', 'year', 'region'],\n",
       "      dtype='object')"
      ]
     },
     "execution_count": 48,
     "metadata": {},
     "output_type": "execute_result"
    }
   ],
   "source": [
    "df.columns"
   ]
  },
  {
   "cell_type": "code",
   "execution_count": 49,
   "metadata": {},
   "outputs": [
    {
     "name": "stdout",
     "output_type": "stream",
     "text": [
      "Predicted average price: [ 2.11270916e+01  2.26054092e+01  9.12929291e+00  3.43572308e+00\n",
      "  2.17247697e+01  1.33356437e+01  2.26628367e+01  2.53691461e+01\n",
      "  2.49637781e+01  4.24243828e+00  2.40670329e+01  2.31790897e+01\n",
      "  2.20865608e+01  2.78143999e+01  1.53524696e+01  6.26363969e+00\n",
      "  2.62351210e+00  2.25532241e+01  2.02585345e+01  2.23250687e+01\n",
      "  2.05105607e+01  1.17456404e+00  2.24118666e+01  2.13761394e+01\n",
      "  2.23712471e+01  2.69056587e+01  2.30841129e+01  2.47561642e+01\n",
      "  1.63763309e+01  2.60757107e+01  2.00107701e+01  3.95546777e+01\n",
      "  2.17340470e+01  2.23955594e+01  2.74874554e+01  2.95689182e+00\n",
      "  2.19342913e+01  2.30319604e+01  2.35908919e+01  2.19111096e+01\n",
      "  2.13762245e+01  2.16538441e+01  2.51177425e+00  2.17574108e+01\n",
      "  5.36107991e+01  2.31763470e+01  2.01619375e+01  2.18964609e+01\n",
      "  4.68390515e+00  2.30898926e+01  6.48417275e-01  1.90026013e+01\n",
      "  2.21148097e+00  2.41880506e+01  1.92828023e+01  2.12314580e+01\n",
      "  1.92963603e+01  2.42934175e+01  2.21168561e+01  1.53834907e+01\n",
      "  1.61562438e+01  2.25834407e+01  2.11794624e+01  2.33960698e+01\n",
      "  2.35354289e+01  3.52325705e+01  2.95596276e+01  2.29124717e+01\n",
      "  2.73774434e+01  2.12302631e+01  2.07989866e+01  2.96571991e+01\n",
      "  2.28114031e+01  2.54190932e+01  2.46769635e+01  1.73246638e+01\n",
      "  2.16802196e+01  2.27549158e+01  2.18894048e+01  3.84788181e+01\n",
      "  2.28425768e+01  2.77865250e+01  2.22069132e+01  3.02082055e+01\n",
      "  2.33662227e+01  2.65718936e+01  3.36628726e+01  2.60308317e+01\n",
      "  2.22574648e+01  2.32213325e+01  1.46842155e+01  2.36010761e+00\n",
      "  2.30371257e+01  2.06687328e+01  2.55515917e+01  2.35266346e+01\n",
      "  2.24242867e+01  2.34400811e+01  3.66715257e+01  2.35386041e+01\n",
      "  2.61344175e+00  2.54189806e+01  9.28097065e+00  2.68240522e+01\n",
      "  2.46087364e+01  3.49466621e+01  2.24488340e+01  2.30611362e+01\n",
      "  2.28589066e+01  2.22236414e+01  2.29274234e+01  1.60941179e+00\n",
      "  2.18262356e+01  1.93514471e+01  2.97665115e+01  2.30897887e+00\n",
      "  8.25704764e+00  3.31879665e-01  2.35587615e+01  3.39242293e+01\n",
      "  4.31001127e+00  3.84802587e+00  2.29325808e+01  2.39373660e+01\n",
      "  2.17259909e+01  2.63768356e+01  2.16924633e+01  2.51972208e+01\n",
      "  4.32478484e+00  2.34770921e+01  2.16485262e+01  1.94173452e+01\n",
      "  2.60259242e+01  9.63866422e+00  2.81216542e+01  2.17859135e+01\n",
      "  2.38284117e+00  1.71373360e+01  2.46904865e+01  2.35117080e+01\n",
      "  8.18157012e-01  2.21887839e+01  4.52867879e+00  2.15911833e+01\n",
      "  2.21725722e+01  2.33027917e+01  2.38414240e+01  2.09900841e+01\n",
      "  2.30804877e+01  2.07332331e+01  2.32014659e+01  2.82351462e+01\n",
      "  2.34474112e+01  2.24739808e+01  2.07060813e+01  2.23755159e+01\n",
      "  2.41343510e+01  2.73216133e+01  3.18372575e+01  2.27080685e+01\n",
      "  3.81876978e+01  1.93919817e+01  2.84480828e+00  2.28700893e+01\n",
      "  1.47291300e+01  3.78575759e+01  2.56336759e+01  2.25796772e+01\n",
      "  2.27310162e+01  2.20891306e+01  1.88679282e+01  2.46268896e+01\n",
      "  2.75592315e+01  1.97648987e+01  2.36941569e+01  1.78326534e+01\n",
      "  2.22293893e+01  4.11201424e+01  1.85341739e+01  2.47326086e+01\n",
      "  3.36343694e+01  1.29789688e+00  5.86929498e-01  2.21098648e+01\n",
      "  1.97400666e+01  2.32958933e+01  2.20215044e+01  2.36159703e+01\n",
      "  2.52832864e+01  2.59722347e+01  2.57808786e+01  3.89724103e+01\n",
      "  2.23594311e+01  2.31937738e+01  2.09280180e+01  2.27470709e+01\n",
      "  3.79562081e+00  2.18400394e+01  2.16268287e+01  2.81031455e+01\n",
      "  7.43038115e+00  2.20895747e+01  1.65054379e+01  2.52498711e+01\n",
      "  1.24509659e+01  3.44967543e+00  2.18774285e+01  2.65268483e+01\n",
      "  2.22701094e+01  5.76196503e+00  2.21066217e+01  1.99849815e+01\n",
      "  2.46455337e+01  2.27222380e+01  2.29840403e+01  4.65665920e+01\n",
      "  1.60279616e+01  2.06715616e+01  1.94742620e+00  1.88992000e+01\n",
      "  2.33696473e+01  2.68416782e+01  1.98770658e+01  2.34540589e+01\n",
      "  2.69954398e+01  2.26555478e+01 -1.10483465e+00  3.75742274e+01\n",
      "  2.49907530e+01  2.46295624e+01  3.72787707e+01  2.22434325e+01\n",
      "  2.27402274e+01  3.62427143e+01  2.28343263e+01  2.30457109e+01\n",
      "  2.03016839e+01  3.77271971e-01  2.23227444e+01  2.56746177e+01\n",
      " -5.84797632e-01  2.27617764e+01  2.69387919e+01  2.33986568e+01\n",
      "  1.62920298e+01  2.77658752e+01  3.04047301e+01  6.80460289e+00\n",
      "  6.36848167e+00  4.92922090e+00  2.56095631e+01  3.17648057e+01\n",
      "  2.34165855e+01  2.23741088e+01  2.54946705e+01  1.87060746e+01\n",
      "  4.11743240e+00  2.29846502e+01  2.29101378e+01  2.24015412e+01\n",
      "  3.53886833e+01  2.19318848e+01  2.29793606e+01  2.33630484e+01\n",
      "  2.19893925e+01  2.72797357e+01  2.28583841e+01  2.40813334e+01\n",
      "  4.42987849e+00  1.52754730e+01  1.37796218e+01  2.14595208e+01\n",
      "  8.80709778e+00  2.27454988e+01  2.37544716e+01  2.04592190e+01\n",
      "  2.12828869e+01  2.24992639e+01  2.26278425e+01  2.41577177e+01\n",
      "  1.92972520e+00  2.18953931e+01  1.46354746e+01  2.18631851e+01\n",
      "  4.60330907e+01  2.47887066e+01  4.14690118e+01  2.88113180e+01\n",
      "  2.40107567e+01  2.36259129e+01  2.39091782e+01  2.27492054e+01\n",
      "  3.00592098e+01  1.54841781e+01  2.72243923e+01  2.34183566e+01\n",
      "  3.73494482e+00  2.57622838e+01  2.65965719e+00  1.88422140e+01\n",
      "  2.32958164e+01  1.92742627e+01  7.61378676e+00  2.26712807e+01\n",
      "  2.29865591e+01  9.66837197e+00  3.30819519e+00  2.28630464e+01\n",
      "  2.03166209e+01  2.31115481e+00  2.38954034e+01  2.28289635e+01\n",
      "  2.18288260e+01  2.37792688e+01  1.97237274e+01  2.55096759e+00\n",
      "  2.60548621e+00  2.26676502e+01  1.91498814e+01  2.23096393e+01\n",
      "  2.23354646e+01  3.98434138e+01  4.13559923e+01  2.46918149e+01\n",
      " -6.41494651e-01  2.51839440e+01  2.13314390e+01  2.25894543e+01\n",
      "  2.46986773e+01  2.19722538e+01  4.13539745e+01  2.29322091e+01\n",
      "  2.40653661e+01  2.77152291e+01  2.07962082e+01  2.17562183e+01\n",
      "  2.65987302e+01  1.11997733e+01  2.26792924e+01  2.31449267e+01\n",
      "  1.64190385e+01  2.27911399e+01  2.17006723e+01  2.39608759e+01\n",
      "  2.22229874e+01  2.75017034e+01  1.99146193e+01  1.96152558e+01\n",
      "  1.47199850e+01  1.82542229e+00  2.20370468e+01  2.31000371e+01\n",
      "  2.25968950e+01  6.31230048e+01  2.15094099e+01  2.33707470e+01\n",
      "  2.20971520e+01  1.98192542e+01  4.62271554e+00  6.04237502e+01\n",
      "  2.23626599e+01  2.27025024e+01  2.02537143e+01  2.26124722e+01\n",
      "  2.03307798e+01  2.97636458e+01  2.23700342e+01  2.25793126e+01\n",
      "  2.29756175e+01  2.07536297e+01  1.89354621e+01  2.67511374e+01\n",
      "  2.24216009e+01  2.32592251e+01  1.29354583e+00  2.32249279e+01\n",
      "  2.28041660e+01  2.66515137e+01  4.66417211e+00  2.30899893e+01\n",
      "  2.70126200e+01  2.31336209e+01  2.28321872e+01  4.63486465e-01\n",
      "  2.19983531e+01  2.35809777e+01  2.84003681e+01  2.60478090e+01\n",
      "  4.80309755e+00  2.26587095e+01  2.15617543e+01  2.25061374e+01\n",
      "  2.33026364e+01  2.29600227e+01  2.19407956e+01  3.64329183e+00\n",
      "  1.89439483e+01  4.88379110e+01  5.19904847e+01  1.98336466e+01\n",
      "  4.82279136e+01  2.27605972e+01  2.51365649e+01  2.35123956e+01\n",
      "  2.00934395e+01  4.29446334e+01 -1.34899034e-02  1.60061634e+01\n",
      "  2.22028277e+01  2.25407673e+01  2.21547719e+01  2.26182506e+01\n",
      "  2.28465878e+01  3.69650415e+00  2.22176659e+01  2.55676541e+01\n",
      "  1.02851713e+00  8.86977112e+00  2.07817573e+01  2.57556045e+01\n",
      "  2.78423702e+00  2.35510244e+01  2.68098970e+01  2.24986294e+01\n",
      "  2.27688907e+01  1.95895727e+01  3.02210353e+01  2.22737121e+01\n",
      "  1.97391996e+01  2.97013023e+01  2.19272037e+01  6.81381383e-01\n",
      "  2.21263405e+01  2.25820182e+01  2.62289625e+01  2.66890582e+01\n",
      " -2.85003861e-01  2.27116874e+01  2.42038952e+01  2.30317409e+01\n",
      "  2.35607750e+01  7.96357791e+00  2.53997517e-01  1.97935844e+01\n",
      "  2.83863660e+01  2.27314660e+01  2.47639831e+01  2.38941129e+01\n",
      "  2.21637903e+01  1.98737135e+01  2.10314073e+01  2.41659569e+01\n",
      "  2.81831786e+01  2.19736662e+01  2.04784210e+01  1.04924402e+01\n",
      "  2.32245329e+01  2.32626056e+01  2.18573791e+01  2.23020704e+01\n",
      "  2.19905737e+01  4.98365520e+01  1.26290600e+01  4.69680071e+01\n",
      "  2.22653772e+01  2.01828709e+01  2.27865468e+01  3.70079666e+01\n",
      "  2.17150177e+01  2.12315054e+01  2.40681199e+01  2.24954174e+01\n",
      "  2.24592197e+01  2.63937793e+01  2.31292417e+01  2.65834698e+01\n",
      "  2.52832009e+01  2.26805040e+01  2.31099705e+01  1.51836724e+01\n",
      "  3.39372623e+01  2.34656282e+01  2.48012601e+01  1.92175669e+01\n",
      "  2.36617745e+01  2.60818007e+01  2.40564500e+01  2.28965735e+01\n",
      "  5.03753579e+00  2.31074175e+01  2.23018790e+01  1.84198008e+00\n",
      "  2.62365571e+00  2.28094554e+01  2.18406551e+01  2.26461115e+01\n",
      "  2.20730850e+01  2.30233979e+01  2.62203692e+01  2.15980254e+01\n",
      "  1.23653926e-01]\n",
      "actual average price 724     28\n",
      "812     32\n",
      "1466     6\n",
      "1469     6\n",
      "51       0\n",
      "        ..\n",
      "668     26\n",
      "634     25\n",
      "677     26\n",
      "158      4\n",
      "1383     4\n",
      "Name: region, Length: 501, dtype: int32\n"
     ]
    }
   ],
   "source": [
    "AveragePrice=lr.predict(x_test)\n",
    "print('Predicted average price:',AveragePrice)\n",
    "print('actual average price',y_test)"
   ]
  },
  {
   "cell_type": "code",
   "execution_count": 50,
   "metadata": {},
   "outputs": [
    {
     "name": "stdout",
     "output_type": "stream",
     "text": [
      "error:\n",
      "Mean absolute error: 10.510408786148098\n",
      "Mean squared error: 166.0341561066383\n"
     ]
    }
   ],
   "source": [
    "from sklearn.metrics import mean_absolute_error,mean_squared_error\n",
    "print('error:')\n",
    "print('Mean absolute error:',mean_absolute_error(y_test,AveragePrice))\n",
    "\n",
    "print('Mean squared error:',mean_squared_error(y_test,AveragePrice))\n"
   ]
  },
  {
   "cell_type": "code",
   "execution_count": 51,
   "metadata": {},
   "outputs": [
    {
     "name": "stdout",
     "output_type": "stream",
     "text": [
      "0.3469253032554317\n"
     ]
    }
   ],
   "source": [
    "from sklearn.metrics import r2_score\n",
    "print(r2_score(y_test,AveragePrice))"
   ]
  },
  {
   "cell_type": "code",
   "execution_count": 52,
   "metadata": {},
   "outputs": [
    {
     "data": {
      "text/plain": [
       "-22.19690372014389"
      ]
     },
     "execution_count": 52,
     "metadata": {},
     "output_type": "execute_result"
    }
   ],
   "source": [
    "from sklearn.model_selection import cross_val_score\n",
    "from sklearn import linear_model\n",
    "cross_val_score(linear_model.LinearRegression(),x,y,cv=5,scoring='r2').mean()"
   ]
  },
  {
   "cell_type": "code",
   "execution_count": 53,
   "metadata": {},
   "outputs": [],
   "source": [
    "from sklearn.linear_model import LinearRegression,Lasso,Ridge,ElasticNet\n",
    "from sklearn.svm import SVR\n",
    "from sklearn.neighbors import KNeighborsRegressor\n",
    "from sklearn.tree import DecisionTreeRegressor"
   ]
  },
  {
   "cell_type": "code",
   "execution_count": 54,
   "metadata": {},
   "outputs": [
    {
     "name": "stdout",
     "output_type": "stream",
     "text": [
      "Score of LinearRegression() is: 0.3581791176272525\n",
      "Error:\n",
      "Mean absolute error: 10.510408786148098\n",
      "Mean squared error: 166.0341561066383\n",
      "r2_score: 0.3469253032554317\n",
      "***************************************************************\n",
      "\n",
      "\n",
      "Score of DecisionTreeRegressor() is: 1.0\n",
      "Error:\n",
      "Mean absolute error: 2.9241516966067866\n",
      "Mean squared error: 72.32934131736526\n",
      "r2_score: 0.7155015344178082\n",
      "***************************************************************\n",
      "\n",
      "\n",
      "Score of KNeighborsRegressor() is: 0.8314638048459423\n",
      "Error:\n",
      "Mean absolute error: 4.930538922155688\n",
      "Mean squared error: 75.43481037924151\n",
      "r2_score: 0.7032865582141656\n",
      "***************************************************************\n",
      "\n",
      "\n",
      "Score of SVR() is: 0.08194779599859725\n",
      "Error:\n",
      "Mean absolute error: 13.33945299539648\n",
      "Mean squared error: 242.1770130906911\n",
      "r2_score: 0.047426848237614005\n",
      "***************************************************************\n",
      "\n",
      "\n",
      "Score of Lasso() is: 0.3220994578120224\n",
      "Error:\n",
      "Mean absolute error: 11.119973557713726\n",
      "Mean squared error: 177.44571776344907\n",
      "r2_score: 0.3020393451901703\n",
      "***************************************************************\n",
      "\n",
      "\n",
      "Score of Ridge() is: 0.35816629032626945\n",
      "Error:\n",
      "Mean absolute error: 10.508687014297413\n",
      "Mean squared error: 166.07879973696095\n",
      "r2_score: 0.34674970308966935\n",
      "***************************************************************\n",
      "\n",
      "\n",
      "Score of ElasticNet() is: 0.23702885185942568\n",
      "Error:\n",
      "Mean absolute error: 12.06247706253334\n",
      "Mean squared error: 201.76510756019033\n",
      "r2_score: 0.20638205099873275\n",
      "***************************************************************\n",
      "\n",
      "\n"
     ]
    }
   ],
   "source": [
    "model=[LinearRegression(),DecisionTreeRegressor(),KNeighborsRegressor(),SVR(),Lasso(),Ridge(),ElasticNet()]\n",
    "for m in model:\n",
    "    m.fit(x_train,y_train)\n",
    "    print('Score of',m,'is:',m.score(x_train,y_train))\n",
    "    predm=m.predict(x_test)\n",
    "    print('Error:')\n",
    "    print('Mean absolute error:',mean_absolute_error(y_test,predm))\n",
    "    print('Mean squared error:',mean_squared_error(y_test,predm))\n",
    "    print('r2_score:',r2_score(y_test,predm))\n",
    "    print('***************************************************************')\n",
    "    print('\\n')"
   ]
  },
  {
   "cell_type": "code",
   "execution_count": 55,
   "metadata": {},
   "outputs": [
    {
     "data": {
      "text/plain": [
       "{'alpha': 1, 'random_state': 42}"
      ]
     },
     "execution_count": 55,
     "metadata": {},
     "output_type": "execute_result"
    }
   ],
   "source": [
    "from sklearn.model_selection import GridSearchCV\n",
    "ridge=Ridge()\n",
    "parameters={'alpha':[0.001,0.01,0.1,1],'random_state':range(42,100)}\n",
    "clf=GridSearchCV(ridge,parameters)\n",
    "clf.fit(x,y)\n",
    "clf.best_params_"
   ]
  },
  {
   "cell_type": "code",
   "execution_count": 56,
   "metadata": {},
   "outputs": [
    {
     "name": "stdout",
     "output_type": "stream",
     "text": [
      "Score: 0.35816629032626945\n",
      "\n",
      "\n",
      "Mean absolute error: 10.508687014297413\n",
      "Mean squared error: 166.07879973696095\n",
      "\n",
      "\n",
      "r2_score: 0.34674970308966935\n"
     ]
    }
   ],
   "source": [
    "ridge=Ridge(alpha=1,random_state=42)\n",
    "ridge.fit(x_train,y_train)\n",
    "print('Score:',ridge.score(x_train,y_train))\n",
    "predrd=ridge.predict(x_test)\n",
    "print('\\n')\n",
    "print('Mean absolute error:',mean_absolute_error(y_test,predrd)) \n",
    "print('Mean squared error:',mean_squared_error(y_test,predrd))\n",
    "print('\\n')\n",
    "print('r2_score:',r2_score(y_test,predrd))"
   ]
  },
  {
   "cell_type": "code",
   "execution_count": 57,
   "metadata": {},
   "outputs": [
    {
     "name": "stdout",
     "output_type": "stream",
     "text": [
      "Score: 0.9802005647512165\n",
      "\n",
      "\n",
      "Mean absolute error: 3.185129740518962\n",
      "Mean squared error: 32.45818862275449\n",
      "\n",
      "\n",
      "r2_score: 0.8723297531739864\n"
     ]
    }
   ],
   "source": [
    "from sklearn.ensemble import RandomForestRegressor\n",
    "rf=RandomForestRegressor(n_estimators=20,random_state=59)\n",
    "rf.fit(x_train,y_train)\n",
    "print('Score:',rf.score(x_train,y_train))\n",
    "predrf=rf.predict(x_test)\n",
    "print('\\n')\n",
    "print('Mean absolute error:',mean_absolute_error(y_test,predrf)) \n",
    "print('Mean squared error:',mean_squared_error(y_test,predrf))\n",
    "print('\\n')\n",
    "print('r2_score:',r2_score(y_test,predrf))"
   ]
  },
  {
   "cell_type": "code",
   "execution_count": 58,
   "metadata": {},
   "outputs": [
    {
     "name": "stdout",
     "output_type": "stream",
     "text": [
      "Score: 0.3202819661281464\n",
      "\n",
      "\n",
      "Mean absolute error: 11.181582210100037\n",
      "Mean squared error: 177.2847101346864\n",
      "\n",
      "\n",
      "r2_score: 0.3026726486669573\n"
     ]
    }
   ],
   "source": [
    "from sklearn.ensemble import AdaBoostRegressor\n",
    "lasso=Lasso()\n",
    "\n",
    "adb=AdaBoostRegressor(base_estimator=lasso,n_estimators=20,learning_rate=0.1,random_state=59)\n",
    "adb.fit(x_train,y_train)\n",
    "print('Score:',adb.score(x_train,y_train))\n",
    "predadb=adb.predict(x_test)\n",
    "print('\\n')\n",
    "print('Mean absolute error:',mean_absolute_error(y_test,predadb)) \n",
    "print('Mean squared error:',mean_squared_error(y_test,predadb))\n",
    "print('\\n')\n",
    "print('r2_score:',r2_score(y_test,predadb))"
   ]
  },
  {
   "cell_type": "code",
   "execution_count": 60,
   "metadata": {},
   "outputs": [
    {
     "data": {
      "text/plain": [
       "['Avacado.csv']"
      ]
     },
     "execution_count": 60,
     "metadata": {},
     "output_type": "execute_result"
    }
   ],
   "source": [
    "import joblib\n",
    "joblib.dump(rf,'Avacado.csv')"
   ]
  },
  {
   "cell_type": "code",
   "execution_count": null,
   "metadata": {},
   "outputs": [],
   "source": []
  }
 ],
 "metadata": {
  "kernelspec": {
   "display_name": "Python 3",
   "language": "python",
   "name": "python3"
  },
  "language_info": {
   "codemirror_mode": {
    "name": "ipython",
    "version": 3
   },
   "file_extension": ".py",
   "mimetype": "text/x-python",
   "name": "python",
   "nbconvert_exporter": "python",
   "pygments_lexer": "ipython3",
   "version": "3.8.3"
  }
 },
 "nbformat": 4,
 "nbformat_minor": 4
}
